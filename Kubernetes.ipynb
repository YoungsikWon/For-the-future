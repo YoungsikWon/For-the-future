{
  "nbformat": 4,
  "nbformat_minor": 0,
  "metadata": {
    "colab": {
      "name": "Kubernetes.ipynb",
      "provenance": [],
      "authorship_tag": "ABX9TyPZtkSWxmRXaCpcGuplhDT8"
    },
    "kernelspec": {
      "name": "python3",
      "display_name": "Python 3"
    }
  },
  "cells": [
    {
      "cell_type": "markdown",
      "metadata": {
        "id": "0AaI6SjoUtY-",
        "colab_type": "text"
      },
      "source": [
        "# 쿠버네티스란 무엇인가\n",
        "\n",
        "\n",
        "> 이 페이지에서는 쿠버네티스 개요를 설명한다\n",
        "\n",
        "\n",
        "\n",
        "\n",
        "> 쿠버네티스는 컨테이너화된 워크로드와 서비스를 관리하기 위한 이식성이 있고, 확장 가능한 오픈소스 플랫폼이다. 쿠버네티스는 선언적 구성과 자동화를 모두 용이하게 해준다. 쿠버네티스는 크고, 빠르게 성장하는 생태계를 가지고 있다. 쿠버네트스 서비스, 기술 지원 및 도구는 어디서나 쉽게 이용할 수 있다.\n",
        "\n",
        "쿠버네티스란 명칭은 키잡이(Helmsman)이나 파이럿을 뜻하는 그리스어에서 유래했다. 구글이 2014년에 쿠버네티스 프로젝트를 오픈소스화했다. 쿠버네티스는 [ 구글의 15여년에 걸친 대규모 상용 워크로드 운영 경험](https://research.google/pubs/pub43438/)을 기반으로 만들어졌으며 커뮤니티의 최고의 아이디어와 적용 사례가 결합되었다.\n",
        "\n",
        "출처: https://kubernetes.io/ko/docs/concepts/overview/what-is-kubernetes/#%ec%bf%a0%eb%b2%84%eb%84%a4%ed%8b%b0%ec%8a%a4%ea%b0%80-%ec%95%84%eb%8b%8c-%ea%b2%83\n",
        "\n",
        "\n"
      ]
    },
    {
      "cell_type": "markdown",
      "metadata": {
        "id": "vpV1nX6ng5Q2",
        "colab_type": "text"
      },
      "source": [
        "## 시간이 지나면서 쿠버네티스가 왜 유용하게 되었는지 살펴보자\n",
        "![image.png](data:image/png;base64,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)"
      ]
    },
    {
      "cell_type": "markdown",
      "metadata": {
        "id": "hD6oTc8jdLJj",
        "colab_type": "text"
      },
      "source": [
        "> **전통적인 배포 시대 : 초기 조직은 애플리케이션을 물리 서버에 실행했었다. 한 물리 서버에서 여러 애플리케이션의 리소스 한계를 정의할 방법이 없기에, 리소스 할당의 문제가 발생했다. 예를 들어 물리 서버 하나에서 여러 애플리케이션을 실행하면, 리소스 전부를 차지하는 애플리케이션 인스턴스가 있을 수 있고, 결과적으로는 다른 애플리케이션의 성능이 저하될 수 있었다.  이에 대한 해결책은 서로 다른 여러 물리 서버에서 각 애플리케이션을 실행하는 것이 있다. 그러나 이는 리소스가 충분히 활용 되지 않는다는 점에서 확장 가능하지 않으므로, 물리 서버에서 각 애플리케이션을 실행하는 것이 있다. 그러나 이는 리소스가 충분히 활용 되지 않는다는 점에서 확장 가능하지 않으므로, 물리 서버를 많이 유지하기 위해서 조직에게 많은 비용이 들었다.\n",
        "\n",
        "> **가상화된 배포 시대** : 그 해결책으로 가상화가 도입되었다. 이는 단일 물리 서버의 CPU에서 여러 가상 시스템 (VM)을 실행할 수 있게 한다. 가상화를 사용하면 VM간에 애플리케이션을 격리하고 애플리케이션의 정보를 다른 애플리케이션에서 자유롭게 액세스 할 수 없으므로, 알정 수준의 보안성을 제공할 수 있다.\n",
        "\n",
        "> **컨테이너 개발 시대 ** : 컨테이너는 VM과 유사하지만 격리 속성을 완화하여 애플리케이션 간에 운영체제(OS)를 공유한다. 그러므로 컨테이너는 가볍다고 여겨진다. VM과 마찬가지로 컨테이너에는 자체 파일 시스템, CPU, 메모리, 프로세스 공간 등이 있다. 기본 인프라와의 중속성을 끊었기 때문에, 클라우드나 OS 배포본에모두 이식할 수 있다.\n",
        "\n",
        "- 컨테이너는 다음과 같은 추가적인 혜택을 제공하기 때문에 인기가 많다.\n",
        " - 기민한 애플리케이션 생성과 배포 : VM 이미지를 사용하는 것에 비해 컨테이너 이미지 생성이 보다 쉽게 효율적임.\n",
        " - 지속적인 개발 통합 및 배포 : 안정적이고 주기적으로 컨테이너 이미지를 빌드해서 배포할 수 있고, (이미지의 불변성 덕에) 빠르고 쉽게 롤백할 수 있따.\n",
        " - 개발과 운영의 관심사 분리 : 배포 시점이 아닌 빌드/릴리스 시점에 애플리케이션 컨테이너 이미지를 만들기 때문에, 애플리케이션이 인프라스트럭처에서 디커플된다.\n",
        " - 가시성은 OS 수준의 정보와 메트릭에 머무리지 않고, 애플리케이션의 헬스와 그 밖의 시그널을 볼 수 있다.\n",
        " - 개발, 테스팅 및 운영 환경에 걸친 일관성 : 랩탑에서도 클라우드에서와 동일하게 구동된다.\n",
        " - 클라우드 및 OS 배포판 간 이식성:  Ubuntu, RHEL, CoreOS, on-prem, Google Kubermetes Engine 및 다른 어디에서든 구동된다.\n",
        " - 애플리케이션 중심 관리 : 가상 하드웨어의 OS에서 애플리케이션을 구동 하는 수준에서 OS의 논리적인 자원을 사용하여 애플리케이션을 구동하는 수준으로 추상화 수준이 높아진다.\n",
        " - 느슨하게 커플되고, 분산되고, 유연하며, 자유로운 마이크로서비스: 애플리케이션은 단일 목적의 머신에서 모놀리식 스택으로 구동되지 않고 보다 작고 독립적인 단위로 쪼개져서 동적으로 배포되고 괸리될 수 있다.\n",
        " - 자워 격리 : 애플리케이션 성능을 예측할 수 있다.\n",
        " - 자원 사용량 : 고효율 고집적\n",
        " \n",
        "\n"
      ]
    },
    {
      "cell_type": "markdown",
      "metadata": {
        "id": "gOpNgkY4fBOz",
        "colab_type": "text"
      },
      "source": [
        "# 쿠버네티스가 왜 필요하고 무엇을 할 수 있나\n",
        "\n",
        "> 컨테이너는 애플리케이션을 포장하고 실행하는 좋은 방법이다. 프로덕션 환경에서는 애플리케이션을 실행하는 컨테이너를 관리하고 가동 중지 시간이 없는지 확인해야한다. 예를 들어 컨테이너가 다운되면 달느 컨테이너를 다시 시작해야한다. 이 문제를 시스템에 의해 처리한다면 더 쉽지 않을까?\n",
        "\n",
        "그것이 쿠버네티스가 필요한 이유이다! 쿠버네티스는 분산 시트템을 탄력적으로 실행하기 위한 프레임 워크를 제공한다. 애플리케이션의 확장과 장애 조치를 처리하고, 배포 패턴 등을 제공한다. 예를 들어, 쿠버네티스는 시스템의 카나리아 베포를 쉽게 관리할 수 있다.\n",
        "\n",
        "쿠버네티스는 다음과 같은 제공 한다. \n",
        "\n",
        "- 서비스 디스커버리와 로드 밸런싱 쿠버네티스는 DNS 이름을 사용하거나 자체 IP 주소를 사용하여 컨테이너를 노출할 수 있다. 컨테이너에 대한 트래픽이 많으면, 쿠버네티스는 네트워크 트래픽을 로드밸런싱하고 배포하여 배포가 안정적으로 이루어질 수 있다.\n",
        "- 스토리지 오케스트레이션 : 쿠버네티스를 사용하면 로컬 저장소, 공용 클라우드 공급자 등과 같이 원하는 저장소 시스템을 자동으로 탑재할 수 있다.\n",
        "- 자동화된 롤아웃과 롤백 : 쿠버네티스를 사용하여 배포된 컨테이너의 원하는 상태를 서술할 수 있으며 현재 상태를 원하는 상태로 설정한 속도에 따라 변경할 수 있다. 예를 들어 쿠버네티스를 자동화해서 배포용 새 컨테이너를 만들고, 기존 컨테이너를 제거하고, 모든 리소스를 새 컨테이너에 적용할 수 있다.\n",
        "- 자동화된 빈 패킹(bin packing) : 컨테이너화된 작업을 실행하는데 사용할 수 있는 쿠버네티스 클러스터 노드를 제공한다. 각 컨테이너가 필요로 하는 CPU와 메모리(RAM)를 쿠버네티스에게 지시한다. 쿠버네티스는 컨테이너를 노드에 맞추어서 리소스를 가장 잘 사용할 수 있도록 해준다.\n",
        "- 자동화된 복구(self-healing) : 쿠버네티스는 실패한 컨테이너를 다시 시작하고, 컨테이너를 교체하며, '사용자 정의 상태검사'에 응답하지 않는 컨테이너를 죽이고, 서비스 준비가 끝날때까지 그러한 과정을 클라이언트에 보여주지 않는다\n",
        "- 시크릿과 구성 관리 : 쿠버네티스를 사용하면 암호, OAuth 토큰 및 SSH 키와 같은 중요한 정보를 저장하고 관리할 수  있다. 컨테이너 이미지를 재구성하지 않고 스택 구성에 비밀을 노출 하지 않고도 비밀 및 애플리케이션 구성을 배포 및 업데이트 할 수 있다. \n",
        "\n"
      ]
    },
    {
      "cell_type": "markdown",
      "metadata": {
        "id": "bJybLMIqlhMh",
        "colab_type": "text"
      },
      "source": [
        "# 쿠버네티스가 아닌 것\n",
        "\n",
        "\n",
        "> 쿠버네티스는 전통적인, 모든 것이 포함된 Platform as a Service(PaaS)가 아니다. 쿠버네티스는 하드웨어 수준보다는 컨테이너 수준에서 운영되기 때문에, PaaS가 일반적으로 제공하는 배포, 스케일링, 로드 밸런싱, 로깅 및 모니터링과 같은 기능에서 공통점이 있기도 한다. 하지만, 쿠버네티스는 모놀리식(Molithic)하지 않아서, 이런 기본 솔루션이 선택적이며 추가나 제거가 용이하다. 쿠버네티스는 개발자 플랫폼을 만드는 구성 요소를 제공하지만, 필요한 경우 사용자의 선택권과 유연성을 지켜준다.\n",
        "\n",
        "\n",
        "\n",
        "쿠버네티스는 : \n",
        " - 지원하는 애플리케이션의 유형을 제약하지 않는다. 쿠버네티스는 상태 유지가 필요 없는(stateless) 워크로드, 상태 유지가 필요한(stateful) 워크로드, 데이터 처리를 위한 워크로드를 포함해서 극단적으로 다양한 워크로드를 지원하는 것을 목표로 한다. 애플리케이션이 컨테이너에서 구동될 수 있다면, 쿠버네티스에서도 잘 동작할 것이다.\n",
        "\n",
        " - 소스 코드를 배포하지 않으며 애플리케이션을 빌드하지 않는다. 지속적인 통합과 전달과 배포, 곧 CI/CD 워크플로우는 조직 문화와 취향에 따를 뿐만 아니라 기술적인 요구 사항으로 결정된다.\n",
        "\n",
        " - 애플리케이션 레벨의 서비스를 제공하지 않는다. 애플리케이션 레벨의 서비스에는 미들웨어(예, 메시지 버스), 데이터 처리 프레임워크(예, Spark), 데이터베이스(예, MySql), 캐시 또는 클러스터 스토리지 시스템(예, Ceph) 등이 있다. 이런 컴포넌트는 쿠버네티스 상에서 구동될 수 있고, 쿠버네티스 상에서 구동 중인 애플리케이션이 Open Service Broker 와 같은 이식 가능한 메커니즘을 통해 접근할 수도 있다.\n",
        "\n",
        " - 로깅, 모니터링 또는 경보 솔루션을 포함하지 않는다. 개념 증명을 위한 일부 통합이나, 메트릭을 수집하고 노출하는 메커니즘을 제공한다.\n",
        "\n",
        " - 기본 설정 언어/시스템(Jsonnet)을 제공하거나 요구 하지 않는다. 선언적 명세의 임의적인 형식을 목적으로 하는 선언적 API를 제공한다.\n",
        "\n",
        " - 포괄적인 머신 설정, 유지보수, 관리, 자동 복구 시스템을 제공하거나 채택하지 않는다.\n",
        " \n",
        " - 추가로, 쿠버네티스는 단순한 오케스트레이션 시스템이 아니다. 사실, 쿠버네티스는 오케스트레이션의 필요성을 없애준다. 오케스트레이션의 기술적인 정의는 A흘 먼저 한 다음, B를 하고, C를 하는 것과 같이 정의된 워크플로우를 수행하는 것이다. 반면에, 쿠버네티스는 독립적이고 조합 가능한 제어 프로세서들로 구성되어 있다. 이 프로세서는 지속적으로 현재 상태를 입력받은 의도된 상태로 나아가도록 한다. A에서 C로 어떻게 갔는지는 상관이 없다. 중앙화된 제어도 필요치 않다. 이로써 시스템이 보다 더 사용하기 쉬워지고, 강력해지며, 견고하고, 회복력을 갖추게 되며, 확장 가능해진다.\n"
      ]
    },
    {
      "cell_type": "markdown",
      "metadata": {
        "id": "7gNhwaueZFcj",
        "colab_type": "text"
      },
      "source": [
        ""
      ]
    }
  ]
}